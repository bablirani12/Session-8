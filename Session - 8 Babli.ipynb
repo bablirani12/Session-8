{
 "cells": [
  {
   "cell_type": "markdown",
   "id": "903463af",
   "metadata": {},
   "source": [
    "# Python function - User defined function"
   ]
  },
  {
   "cell_type": "code",
   "execution_count": 4,
   "id": "7fb19c68",
   "metadata": {},
   "outputs": [],
   "source": [
    "def myfunc(list1):\n",
    "    for i in list1:\n",
    "        print(i)"
   ]
  },
  {
   "cell_type": "code",
   "execution_count": 5,
   "id": "fd89663a",
   "metadata": {},
   "outputs": [
    {
     "name": "stdout",
     "output_type": "stream",
     "text": [
      "45\n",
      "67\n",
      "89\n",
      "33\n"
     ]
    }
   ],
   "source": [
    "list1=[45,67,89,33]\n",
    "\n",
    "myfunc(list1)"
   ]
  },
  {
   "cell_type": "code",
   "execution_count": 8,
   "id": "b533de9d",
   "metadata": {},
   "outputs": [],
   "source": [
    "def myfunc2(fruitlist):\n",
    "    for i in fruitlist:\n",
    "        print(i)"
   ]
  },
  {
   "cell_type": "code",
   "execution_count": 9,
   "id": "3ee092b1",
   "metadata": {},
   "outputs": [
    {
     "name": "stdout",
     "output_type": "stream",
     "text": [
      "Apple\n",
      "Banana\n",
      "Mango\n",
      "Grapes\n"
     ]
    }
   ],
   "source": [
    "fruitlist=[\"Apple\", \"Banana\", \"Mango\", \"Grapes\"]\n",
    "\n",
    "myfunc2(fruitlist)"
   ]
  },
  {
   "cell_type": "code",
   "execution_count": 10,
   "id": "5c5cf377",
   "metadata": {},
   "outputs": [],
   "source": [
    "def myfunc3(planetlist):\n",
    "    for i in planetlist:\n",
    "        print(i)"
   ]
  },
  {
   "cell_type": "code",
   "execution_count": 11,
   "id": "543c89bb",
   "metadata": {},
   "outputs": [
    {
     "name": "stdout",
     "output_type": "stream",
     "text": [
      "Mercury\n",
      "Venus\n",
      "Mars\n",
      "Earth\n",
      "Jupitar\n"
     ]
    }
   ],
   "source": [
    "planetlist=[\"Mercury\", \"Venus\", \"Mars\", \"Earth\",\"Jupitar\"]\n",
    "\n",
    "myfunc3(planetlist)"
   ]
  },
  {
   "cell_type": "code",
   "execution_count": 13,
   "id": "a2b68163",
   "metadata": {},
   "outputs": [],
   "source": [
    "def myfunc4():\n",
    "    for i in range(10):\n",
    "        print(i)"
   ]
  },
  {
   "cell_type": "code",
   "execution_count": 14,
   "id": "3cc5ab4a",
   "metadata": {},
   "outputs": [
    {
     "name": "stdout",
     "output_type": "stream",
     "text": [
      "0\n",
      "1\n",
      "2\n",
      "3\n",
      "4\n",
      "5\n",
      "6\n",
      "7\n",
      "8\n",
      "9\n"
     ]
    }
   ],
   "source": [
    "myfunc4()"
   ]
  },
  {
   "cell_type": "code",
   "execution_count": 20,
   "id": "0465665e",
   "metadata": {},
   "outputs": [],
   "source": [
    "def myfunc5():\n",
    "    for i in range(2,21,2):\n",
    "        print(i)"
   ]
  },
  {
   "cell_type": "code",
   "execution_count": 21,
   "id": "9d4221a5",
   "metadata": {},
   "outputs": [
    {
     "name": "stdout",
     "output_type": "stream",
     "text": [
      "2\n",
      "4\n",
      "6\n",
      "8\n",
      "10\n",
      "12\n",
      "14\n",
      "16\n",
      "18\n",
      "20\n"
     ]
    }
   ],
   "source": [
    "myfunc5()"
   ]
  },
  {
   "cell_type": "code",
   "execution_count": 26,
   "id": "4a36a402",
   "metadata": {},
   "outputs": [],
   "source": [
    "def testfunction():\n",
    "    for i in range(10):\n",
    "        if(i==5):\n",
    "            return\n",
    "        print(i)"
   ]
  },
  {
   "cell_type": "code",
   "execution_count": 27,
   "id": "b245180d",
   "metadata": {},
   "outputs": [
    {
     "name": "stdout",
     "output_type": "stream",
     "text": [
      "0\n",
      "1\n",
      "2\n",
      "3\n",
      "4\n"
     ]
    }
   ],
   "source": [
    "testfunction()"
   ]
  },
  {
   "cell_type": "code",
   "execution_count": 29,
   "id": "e839ad27",
   "metadata": {},
   "outputs": [],
   "source": [
    "def myadd():\n",
    "    a=100\n",
    "    b=70\n",
    "    c=a+b\n",
    "    return c"
   ]
  },
  {
   "cell_type": "code",
   "execution_count": 31,
   "id": "481c924d",
   "metadata": {},
   "outputs": [],
   "source": [
    "returnedval=myadd()"
   ]
  },
  {
   "cell_type": "code",
   "execution_count": 32,
   "id": "a7630397",
   "metadata": {},
   "outputs": [
    {
     "data": {
      "text/plain": [
       "170"
      ]
     },
     "execution_count": 32,
     "metadata": {},
     "output_type": "execute_result"
    }
   ],
   "source": [
    "returnedval"
   ]
  },
  {
   "cell_type": "code",
   "execution_count": 33,
   "id": "63c22799",
   "metadata": {},
   "outputs": [],
   "source": [
    "def innerfunction():\n",
    "    print(\"we are in inner function\")"
   ]
  },
  {
   "cell_type": "code",
   "execution_count": 40,
   "id": "5e6f4270",
   "metadata": {},
   "outputs": [],
   "source": [
    "def outerfunction():\n",
    "    innerfunction()\n",
    "    print(\"Outer function\")"
   ]
  },
  {
   "cell_type": "code",
   "execution_count": 41,
   "id": "afc16d4b",
   "metadata": {},
   "outputs": [
    {
     "name": "stdout",
     "output_type": "stream",
     "text": [
      "we are in inner function\n",
      "Outer function\n"
     ]
    }
   ],
   "source": [
    "outerfunction()"
   ]
  },
  {
   "cell_type": "code",
   "execution_count": 44,
   "id": "43cba9ed",
   "metadata": {},
   "outputs": [],
   "source": [
    "def square():\n",
    "    s=7*7\n",
    "    return s\n",
    "    print(\"The value of s=\", s)\n",
    "    "
   ]
  },
  {
   "cell_type": "code",
   "execution_count": 47,
   "id": "ef96f806",
   "metadata": {},
   "outputs": [],
   "source": [
    "sq=square()"
   ]
  },
  {
   "cell_type": "code",
   "execution_count": 48,
   "id": "a0a8ab47",
   "metadata": {},
   "outputs": [
    {
     "data": {
      "text/plain": [
       "49"
      ]
     },
     "execution_count": 48,
     "metadata": {},
     "output_type": "execute_result"
    }
   ],
   "source": [
    "sq"
   ]
  },
  {
   "cell_type": "markdown",
   "id": "0b01651e",
   "metadata": {},
   "source": [
    "Global and Local variable"
   ]
  },
  {
   "cell_type": "code",
   "execution_count": 51,
   "id": "96fa84ac",
   "metadata": {},
   "outputs": [
    {
     "data": {
      "text/plain": [
       "900"
      ]
     },
     "execution_count": 51,
     "metadata": {},
     "output_type": "execute_result"
    }
   ],
   "source": [
    "p=900\n",
    "p"
   ]
  },
  {
   "cell_type": "code",
   "execution_count": 52,
   "id": "3d48ed9b",
   "metadata": {},
   "outputs": [],
   "source": [
    "def testvar():\n",
    "    p=100\n",
    "    print(p)"
   ]
  },
  {
   "cell_type": "code",
   "execution_count": 54,
   "id": "1c81286f",
   "metadata": {},
   "outputs": [
    {
     "name": "stdout",
     "output_type": "stream",
     "text": [
      "100\n"
     ]
    }
   ],
   "source": [
    "testvar()"
   ]
  },
  {
   "cell_type": "code",
   "execution_count": 55,
   "id": "1a26233c",
   "metadata": {},
   "outputs": [
    {
     "data": {
      "text/plain": [
       "900"
      ]
     },
     "execution_count": 55,
     "metadata": {},
     "output_type": "execute_result"
    }
   ],
   "source": [
    "p"
   ]
  },
  {
   "cell_type": "code",
   "execution_count": 57,
   "id": "e35fb4c9",
   "metadata": {},
   "outputs": [],
   "source": [
    "def testvar():\n",
    "    global p\n",
    "    print(p)\n",
    "    p=78\n",
    "    print(p)"
   ]
  },
  {
   "cell_type": "code",
   "execution_count": 58,
   "id": "6ced835a",
   "metadata": {},
   "outputs": [
    {
     "name": "stdout",
     "output_type": "stream",
     "text": [
      "900\n",
      "78\n"
     ]
    }
   ],
   "source": [
    "testvar()"
   ]
  },
  {
   "cell_type": "markdown",
   "id": "7f820105",
   "metadata": {},
   "source": [
    "# Variable number of Arguments"
   ]
  },
  {
   "cell_type": "markdown",
   "id": "8d39c3c9",
   "metadata": {},
   "source": [
    "*args - here * means many"
   ]
  },
  {
   "cell_type": "markdown",
   "id": "e9a80434",
   "metadata": {},
   "source": [
    "will work with pre defined functions like sum, min, max"
   ]
  },
  {
   "cell_type": "code",
   "execution_count": 59,
   "id": "0cbb7dd4",
   "metadata": {},
   "outputs": [],
   "source": [
    "def plusfunction(*args):\n",
    "    return sum(args)"
   ]
  },
  {
   "cell_type": "code",
   "execution_count": 60,
   "id": "84446102",
   "metadata": {},
   "outputs": [
    {
     "data": {
      "text/plain": [
       "20"
      ]
     },
     "execution_count": 60,
     "metadata": {},
     "output_type": "execute_result"
    }
   ],
   "source": [
    "plusfunction(6,4,10)"
   ]
  },
  {
   "cell_type": "code",
   "execution_count": 61,
   "id": "fcefa0f3",
   "metadata": {},
   "outputs": [
    {
     "data": {
      "text/plain": [
       "14"
      ]
     },
     "execution_count": 61,
     "metadata": {},
     "output_type": "execute_result"
    }
   ],
   "source": [
    "plusfunction(2,2,1,4,5)"
   ]
  },
  {
   "cell_type": "code",
   "execution_count": 62,
   "id": "7aa90ab9",
   "metadata": {},
   "outputs": [],
   "source": [
    "def maxfunction(*args):\n",
    "    return max(args)"
   ]
  },
  {
   "cell_type": "code",
   "execution_count": 63,
   "id": "dc8e7ea8",
   "metadata": {},
   "outputs": [
    {
     "data": {
      "text/plain": [
       "98"
      ]
     },
     "execution_count": 63,
     "metadata": {},
     "output_type": "execute_result"
    }
   ],
   "source": [
    "maxfunction(9,8,90,78,98)"
   ]
  },
  {
   "cell_type": "code",
   "execution_count": 64,
   "id": "b6daf72a",
   "metadata": {},
   "outputs": [
    {
     "data": {
      "text/plain": [
       "80"
      ]
     },
     "execution_count": 64,
     "metadata": {},
     "output_type": "execute_result"
    }
   ],
   "source": [
    "maxfunction(19,80)"
   ]
  },
  {
   "cell_type": "code",
   "execution_count": 65,
   "id": "3b3ce2df",
   "metadata": {},
   "outputs": [],
   "source": [
    "def minfunction(*args):\n",
    "    return min(args)"
   ]
  },
  {
   "cell_type": "code",
   "execution_count": 66,
   "id": "21b48d00",
   "metadata": {},
   "outputs": [
    {
     "data": {
      "text/plain": [
       "67"
      ]
     },
     "execution_count": 66,
     "metadata": {},
     "output_type": "execute_result"
    }
   ],
   "source": [
    "minfunction(67,83,96)"
   ]
  },
  {
   "cell_type": "code",
   "execution_count": 67,
   "id": "f9699970",
   "metadata": {},
   "outputs": [],
   "source": [
    "#s=s+n for s+=n\n",
    "\n",
    "def sumfunc(*numbers):\n",
    "    s=0\n",
    "    for n in numbers:\n",
    "        s=s+n\n",
    "    return s\n",
    "        #s+=n\n",
    "        \n",
    "        \n"
   ]
  },
  {
   "cell_type": "code",
   "execution_count": 68,
   "id": "b2344914",
   "metadata": {},
   "outputs": [
    {
     "name": "stdout",
     "output_type": "stream",
     "text": [
      "3\n"
     ]
    }
   ],
   "source": [
    "print(sumfunc(1,2))"
   ]
  },
  {
   "cell_type": "code",
   "execution_count": 69,
   "id": "691e7222",
   "metadata": {},
   "outputs": [
    {
     "name": "stdout",
     "output_type": "stream",
     "text": [
      "6\n"
     ]
    }
   ],
   "source": [
    "print(sumfunc(1,2,3))"
   ]
  },
  {
   "cell_type": "code",
   "execution_count": 70,
   "id": "45d0995a",
   "metadata": {},
   "outputs": [
    {
     "name": "stdout",
     "output_type": "stream",
     "text": [
      "10\n"
     ]
    }
   ],
   "source": [
    "print(sumfunc(1,2,3,4))"
   ]
  },
  {
   "cell_type": "markdown",
   "id": "2c014fb4",
   "metadata": {},
   "source": [
    "# Lambda Functions"
   ]
  },
  {
   "cell_type": "code",
   "execution_count": 71,
   "id": "79325dc8",
   "metadata": {},
   "outputs": [
    {
     "data": {
      "text/plain": [
       "10"
      ]
     },
     "execution_count": 71,
     "metadata": {},
     "output_type": "execute_result"
    }
   ],
   "source": [
    "test=lambda x:x*2\n",
    "test(5)"
   ]
  },
  {
   "cell_type": "code",
   "execution_count": 72,
   "id": "eb61ab30",
   "metadata": {},
   "outputs": [
    {
     "data": {
      "text/plain": [
       "16"
      ]
     },
     "execution_count": 72,
     "metadata": {},
     "output_type": "execute_result"
    }
   ],
   "source": [
    "test(8)"
   ]
  },
  {
   "cell_type": "code",
   "execution_count": 73,
   "id": "b73914e3",
   "metadata": {},
   "outputs": [
    {
     "data": {
      "text/plain": [
       "7"
      ]
     },
     "execution_count": 73,
     "metadata": {},
     "output_type": "execute_result"
    }
   ],
   "source": [
    "test1add=lambda x,y :x+y\n",
    "test1add(3,4)"
   ]
  },
  {
   "cell_type": "code",
   "execution_count": 74,
   "id": "2d323555",
   "metadata": {},
   "outputs": [
    {
     "data": {
      "text/plain": [
       "6"
      ]
     },
     "execution_count": 74,
     "metadata": {},
     "output_type": "execute_result"
    }
   ],
   "source": [
    "m=lambda x,y,z :x+y+z\n",
    "m(1,2,3)"
   ]
  },
  {
   "cell_type": "code",
   "execution_count": 75,
   "id": "6e8bf8b8",
   "metadata": {},
   "outputs": [
    {
     "data": {
      "text/plain": [
       "4"
      ]
     },
     "execution_count": 75,
     "metadata": {},
     "output_type": "execute_result"
    }
   ],
   "source": [
    "square=lambda x:x**2\n",
    "square(2)"
   ]
  },
  {
   "cell_type": "code",
   "execution_count": 76,
   "id": "6a20d1bd",
   "metadata": {},
   "outputs": [
    {
     "data": {
      "text/plain": [
       "16"
      ]
     },
     "execution_count": 76,
     "metadata": {},
     "output_type": "execute_result"
    }
   ],
   "source": [
    "square(4)"
   ]
  },
  {
   "cell_type": "code",
   "execution_count": 77,
   "id": "f50360d1",
   "metadata": {},
   "outputs": [
    {
     "data": {
      "text/plain": [
       "8.0"
      ]
     },
     "execution_count": 77,
     "metadata": {},
     "output_type": "execute_result"
    }
   ],
   "source": [
    "sqroot=lambda x:x**(1/2)\n",
    "sqroot(64)"
   ]
  },
  {
   "cell_type": "code",
   "execution_count": 78,
   "id": "2ad699fe",
   "metadata": {},
   "outputs": [
    {
     "data": {
      "text/plain": [
       "5.0"
      ]
     },
     "execution_count": 78,
     "metadata": {},
     "output_type": "execute_result"
    }
   ],
   "source": [
    "sqroot(25)"
   ]
  },
  {
   "cell_type": "code",
   "execution_count": 79,
   "id": "21a24af2",
   "metadata": {},
   "outputs": [
    {
     "data": {
      "text/plain": [
       "64"
      ]
     },
     "execution_count": 79,
     "metadata": {},
     "output_type": "execute_result"
    }
   ],
   "source": [
    "cube=lambda x:x**3\n",
    "cube(4)"
   ]
  },
  {
   "cell_type": "code",
   "execution_count": 80,
   "id": "f08902c8",
   "metadata": {},
   "outputs": [
    {
     "data": {
      "text/plain": [
       "11"
      ]
     },
     "execution_count": 80,
     "metadata": {},
     "output_type": "execute_result"
    }
   ],
   "source": [
    "addvar=lambda arg1 , arg2 : arg1 + arg2\n",
    "addvar(5,6)"
   ]
  },
  {
   "cell_type": "code",
   "execution_count": 81,
   "id": "f529ee08",
   "metadata": {},
   "outputs": [
    {
     "data": {
      "text/plain": [
       "17"
      ]
     },
     "execution_count": 81,
     "metadata": {},
     "output_type": "execute_result"
    }
   ],
   "source": [
    "addvar(8,9)"
   ]
  },
  {
   "cell_type": "code",
   "execution_count": null,
   "id": "0e62a3a4",
   "metadata": {},
   "outputs": [],
   "source": []
  },
  {
   "cell_type": "code",
   "execution_count": null,
   "id": "4e3e3981",
   "metadata": {},
   "outputs": [],
   "source": []
  }
 ],
 "metadata": {
  "kernelspec": {
   "display_name": "Python 3 (ipykernel)",
   "language": "python",
   "name": "python3"
  },
  "language_info": {
   "codemirror_mode": {
    "name": "ipython",
    "version": 3
   },
   "file_extension": ".py",
   "mimetype": "text/x-python",
   "name": "python",
   "nbconvert_exporter": "python",
   "pygments_lexer": "ipython3",
   "version": "3.9.7"
  }
 },
 "nbformat": 4,
 "nbformat_minor": 5
}
